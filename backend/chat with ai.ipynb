{
 "cells": [
  {
   "cell_type": "markdown",
   "metadata": {},
   "source": [
    "![image](https://raw.githubusercontent.com/IBM/watson-machine-learning-samples/master/cloud/notebooks/headers/watsonx-Prompt_Lab-Notebook.png)\n",
    "# Prompt Notebook - Prompt Lab Notebook v1.1.0\n",
    "This notebook contains steps and code to demonstrate inferencing of prompts\n",
    "generated in Prompt Lab in watsonx.ai. It introduces Python API commands\n",
    "for authentication using API key and prompt inferencing using WML API.\n",
    "\n",
    "**Note:** Notebook code generated using Prompt Lab will execute successfully.\n",
    "If code is modified or reordered, there is no guarantee it will successfully execute.\n",
    "For details, see: <a href=\"/docs/content/wsj/analyze-data/fm-prompt-save.html?context=wx\" target=\"_blank\">Saving your work in Prompt Lab as a notebook.</a>\n",
    "\n",
    "Some familiarity with Python is helpful. This notebook uses Python 3.10.\n",
    "\n",
    "## Notebook goals\n",
    "The learning goals of this notebook are:\n",
    "\n",
    "* Defining a Python function for obtaining credentials from the IBM Cloud personal API key\n",
    "* Defining parameters of the Model object\n",
    "* Using the Model object to generate response using the defined model id, parameters and the prompt input\n",
    "\n",
    "# Setup"
   ]
  },
  {
   "cell_type": "markdown",
   "metadata": {},
   "source": [
    "## watsonx API connection\n",
    "This cell defines the credentials required to work with watsonx API for Foundation\n",
    "Model inferencing.\n",
    "\n",
    "**Action:** Provide the IBM Cloud personal API key. For details, see\n",
    "<a href=\"https://cloud.ibm.com/docs/account?topic=account-userapikey&interface=ui\" target=\"_blank\">documentation</a>.\n"
   ]
  },
  {
   "cell_type": "code",
   "execution_count": 2,
   "metadata": {},
   "outputs": [
    {
     "name": "stdout",
     "output_type": "stream",
     "text": [
      "Requirement already satisfied: ibm_watsonx_ai in n:\\naga\\projects\\smart_sdlc\\.venv\\lib\\site-packages (1.3.32)\n",
      "Requirement already satisfied: requests in n:\\naga\\projects\\smart_sdlc\\.venv\\lib\\site-packages (from ibm_watsonx_ai) (2.32.4)\n",
      "Requirement already satisfied: httpx<0.29,>=0.27 in n:\\naga\\projects\\smart_sdlc\\.venv\\lib\\site-packages (from ibm_watsonx_ai) (0.28.1)\n",
      "Requirement already satisfied: certifi in n:\\naga\\projects\\smart_sdlc\\.venv\\lib\\site-packages (from ibm_watsonx_ai) (2025.7.14)\n",
      "Requirement already satisfied: ibm-cos-sdk<2.15.0,>=2.12.0 in n:\\naga\\projects\\smart_sdlc\\.venv\\lib\\site-packages (from ibm_watsonx_ai) (2.14.2)\n",
      "Requirement already satisfied: pandas<2.3.0,>=0.24.2 in n:\\naga\\projects\\smart_sdlc\\.venv\\lib\\site-packages (from ibm_watsonx_ai) (2.2.3)\n",
      "Requirement already satisfied: urllib3 in n:\\naga\\projects\\smart_sdlc\\.venv\\lib\\site-packages (from ibm_watsonx_ai) (2.5.0)\n",
      "Requirement already satisfied: cachetools in n:\\naga\\projects\\smart_sdlc\\.venv\\lib\\site-packages (from ibm_watsonx_ai) (6.1.0)\n",
      "Requirement already satisfied: packaging in n:\\naga\\projects\\smart_sdlc\\.venv\\lib\\site-packages (from ibm_watsonx_ai) (25.0)\n",
      "Requirement already satisfied: tabulate in n:\\naga\\projects\\smart_sdlc\\.venv\\lib\\site-packages (from ibm_watsonx_ai) (0.9.0)\n",
      "Requirement already satisfied: lomond in n:\\naga\\projects\\smart_sdlc\\.venv\\lib\\site-packages (from ibm_watsonx_ai) (0.3.3)\n",
      "Requirement already satisfied: anyio in n:\\naga\\projects\\smart_sdlc\\.venv\\lib\\site-packages (from httpx<0.29,>=0.27->ibm_watsonx_ai) (4.9.0)\n",
      "Requirement already satisfied: idna in n:\\naga\\projects\\smart_sdlc\\.venv\\lib\\site-packages (from httpx<0.29,>=0.27->ibm_watsonx_ai) (3.10)\n",
      "Requirement already satisfied: httpcore==1.* in n:\\naga\\projects\\smart_sdlc\\.venv\\lib\\site-packages (from httpx<0.29,>=0.27->ibm_watsonx_ai) (1.0.9)\n",
      "Requirement already satisfied: h11>=0.16 in n:\\naga\\projects\\smart_sdlc\\.venv\\lib\\site-packages (from httpcore==1.*->httpx<0.29,>=0.27->ibm_watsonx_ai) (0.16.0)\n",
      "Requirement already satisfied: ibm-cos-sdk-core==2.14.2 in n:\\naga\\projects\\smart_sdlc\\.venv\\lib\\site-packages (from ibm-cos-sdk<2.15.0,>=2.12.0->ibm_watsonx_ai) (2.14.2)\n",
      "Requirement already satisfied: ibm-cos-sdk-s3transfer==2.14.2 in n:\\naga\\projects\\smart_sdlc\\.venv\\lib\\site-packages (from ibm-cos-sdk<2.15.0,>=2.12.0->ibm_watsonx_ai) (2.14.2)\n",
      "Requirement already satisfied: jmespath<=1.0.1,>=0.10.0 in n:\\naga\\projects\\smart_sdlc\\.venv\\lib\\site-packages (from ibm-cos-sdk<2.15.0,>=2.12.0->ibm_watsonx_ai) (1.0.1)\n",
      "Requirement already satisfied: python-dateutil<3.0.0,>=2.9.0 in n:\\naga\\projects\\smart_sdlc\\.venv\\lib\\site-packages (from ibm-cos-sdk-core==2.14.2->ibm-cos-sdk<2.15.0,>=2.12.0->ibm_watsonx_ai) (2.9.0.post0)\n",
      "Requirement already satisfied: tzdata>=2022.7 in n:\\naga\\projects\\smart_sdlc\\.venv\\lib\\site-packages (from pandas<2.3.0,>=0.24.2->ibm_watsonx_ai) (2025.2)\n",
      "Requirement already satisfied: numpy>=1.22.4 in n:\\naga\\projects\\smart_sdlc\\.venv\\lib\\site-packages (from pandas<2.3.0,>=0.24.2->ibm_watsonx_ai) (2.2.6)\n",
      "Requirement already satisfied: pytz>=2020.1 in n:\\naga\\projects\\smart_sdlc\\.venv\\lib\\site-packages (from pandas<2.3.0,>=0.24.2->ibm_watsonx_ai) (2025.2)\n",
      "Requirement already satisfied: six>=1.5 in n:\\naga\\projects\\smart_sdlc\\.venv\\lib\\site-packages (from python-dateutil<3.0.0,>=2.9.0->ibm-cos-sdk-core==2.14.2->ibm-cos-sdk<2.15.0,>=2.12.0->ibm_watsonx_ai) (1.17.0)\n",
      "Requirement already satisfied: charset_normalizer<4,>=2 in n:\\naga\\projects\\smart_sdlc\\.venv\\lib\\site-packages (from requests->ibm_watsonx_ai) (3.4.2)\n",
      "Requirement already satisfied: exceptiongroup>=1.0.2 in n:\\naga\\projects\\smart_sdlc\\.venv\\lib\\site-packages (from anyio->httpx<0.29,>=0.27->ibm_watsonx_ai) (1.3.0)\n",
      "Requirement already satisfied: typing_extensions>=4.5 in n:\\naga\\projects\\smart_sdlc\\.venv\\lib\\site-packages (from anyio->httpx<0.29,>=0.27->ibm_watsonx_ai) (4.14.1)\n",
      "Requirement already satisfied: sniffio>=1.1 in n:\\naga\\projects\\smart_sdlc\\.venv\\lib\\site-packages (from anyio->httpx<0.29,>=0.27->ibm_watsonx_ai) (1.3.1)\n"
     ]
    },
    {
     "name": "stderr",
     "output_type": "stream",
     "text": [
      "WARNING: You are using pip version 21.2.3; however, version 25.1.1 is available.\n",
      "You should consider upgrading via the 'n:\\naga\\Projects\\smart_sdlc\\.venv\\Scripts\\python.exe -m pip install --upgrade pip' command.\n"
     ]
    }
   ],
   "source": [
    "!pip install ibm_watsonx_ai"
   ]
  },
  {
   "cell_type": "code",
   "execution_count": 3,
   "metadata": {},
   "outputs": [],
   "source": [
    "import os\n",
    "from ibm_watsonx_ai import APIClient, Credentials\n",
    "import getpass\n",
    "\n",
    "credentials = Credentials(\n",
    "    url=\"https://us-south.ml.cloud.ibm.com\",\n",
    "    api_key=getpass.getpass(\"Please enter your api key (hit enter): \")\n",
    ")\n"
   ]
  },
  {
   "cell_type": "markdown",
   "metadata": {},
   "source": [
    "# Inferencing\n",
    "This cell demonstrated how we can use the model object as well as the created access token\n",
    "to pair it with parameters and input string to obtain\n",
    "the response from the the selected foundation model.\n",
    "\n",
    "## Defining the model id\n",
    "We need to specify model id that will be used for inferencing:\n"
   ]
  },
  {
   "cell_type": "code",
   "execution_count": 4,
   "metadata": {},
   "outputs": [],
   "source": [
    "model_id = \"ibm/granite-3-8b-instruct\"\n"
   ]
  },
  {
   "cell_type": "markdown",
   "metadata": {},
   "source": [
    "## Defining the model parameters\n",
    "We need to provide a set of model parameters that will influence the\n",
    "result:"
   ]
  },
  {
   "cell_type": "code",
   "execution_count": 5,
   "metadata": {},
   "outputs": [],
   "source": [
    "parameters = {\n",
    "    \"decoding_method\": \"greedy\",\n",
    "    \"max_new_tokens\": 200,\n",
    "    \"min_new_tokens\": 0,\n",
    "    \"repetition_penalty\": 1\n",
    "}"
   ]
  },
  {
   "cell_type": "markdown",
   "metadata": {},
   "source": [
    "## Defining the project id or space id\n",
    "The API requires project id or space id that provides the context for the call. We will obtain\n",
    "the id from the project or space in which this notebook runs:"
   ]
  },
  {
   "cell_type": "code",
   "execution_count": 6,
   "metadata": {},
   "outputs": [],
   "source": [
    "project_id = os.getenv(\"WATSONX_PROJECT_ID\")\n",
    "space_id = os.getenv(\"WATSONX_SPACE_ID\")\n",
    "project_id = \"a9048221-454c-42ad-841e-833c61cc6cef\"\n",
    "space_id = \"86e8179c-986b-48d6-9797-ceb4b4e57e41\""
   ]
  },
  {
   "cell_type": "markdown",
   "metadata": {},
   "source": [
    "## Defining the Model object\n",
    "We need to define the Model object using the properties we defined so far:\n"
   ]
  },
  {
   "cell_type": "code",
   "execution_count": 7,
   "metadata": {},
   "outputs": [],
   "source": [
    "from ibm_watsonx_ai.foundation_models import ModelInference\n",
    "\n",
    "model = ModelInference(\n",
    "\tmodel_id = model_id,\n",
    "\tparams = parameters,\n",
    "\tcredentials = credentials,\n",
    "\tproject_id = project_id,\n",
    "\tspace_id = space_id\n",
    "\t)\n"
   ]
  },
  {
   "cell_type": "markdown",
   "metadata": {},
   "source": [
    "## Defining the inferencing input\n",
    "Foundation model inferencing API accepts a natural language input that it will use\n",
    "to provide the natural language response. The API is sensitive to formatting. Input\n",
    "structure, presence of training steps (one-shot, two-shot learning etc.), as well\n",
    "as phrasing all influence the final response and belongs to the emerging discipline of\n",
    "Prompt Engineering.\n",
    "\n",
    "Let us provide the input we got from the Prompt Lab:\n"
   ]
  },
  {
   "cell_type": "code",
   "execution_count": 8,
   "metadata": {},
   "outputs": [],
   "source": [
    "prompt_input = \"\"\"You are a helpful Smart SDLC AI assistant  that gives detailed and friendly responses.\n",
    "\n",
    "Input: Hi\n",
    "Output: Hello! I'm here to help you with any questions or issues you have regarding the Software Development Life Cycle (SDLC). How can I assist you today?\n",
    "\n",
    "Input: What is SDLC?\n",
    "Output: SDLC, or Software Development Life Cycle, is a process used by the software industry to design, develop, and test high-quality software. The goal of SDLC is to produce a high-quality software that meets or exceeds customer expectations, within time and cost constraints. The SDLC process includes the following stages: requirements gathering, design, implementation, testing, deployment, and maintenance.\n",
    "\n",
    "Input: Which are the popular SDLC models?\n",
    "Output: There are several popular SDLC models, including:\n",
    "\n",
    "1. Waterfall Model\n",
    "2. Agile Model\n",
    "3. V-Model\n",
    "4. Spiral Model\n",
    "5. Big Bang Model\n",
    "6. Prototype Model\n",
    "7. Iterative Model\n",
    "Each model has its own strengths and weaknesses, and the choice of model depends on the project's requirements, size, and complexity.\n",
    "\n",
    "Input: Can you suggest any tools for implementing SDLC?\n",
    "Output: There are numerous tools available for implementing SDLC models, depending on the specific requirements of your project. Some popular tools include:\n",
    "\n",
    "Jira: A project management tool that supports Agile, Scrum, and Kanban methodologies.\n",
    "Microsoft Project: A comprehensive project management tool that supports various SDLC models.\n",
    "Trello: A visual project management tool that supports Agile and Scrum methodologies.\n",
    "VersionOne: A tool for Agile project management, including planning, tracking, and reporting.\n",
    "Asana: A flexible project management tool that supports various SDLC models.\n",
    "Redmine: An open-source project management tool with features for issue tracking, version control, and project management.\n",
    "GitLab: A web-based DevOps lifecycle tool that provides version control, issue tracking, and continuous integration/continuous deployment (CI/CD) features.\n",
    "These tools can help streamline your SDLC process, improve collaboration, and ensure the successful delivery of your software projects.\n",
    "\n",
    "Input: How does SDLC help in software development?\n",
    "Output: SDLC provides a structured approach to software development, ensuring that all aspects of the project are addressed. It helps in:\n",
    "\n",
    "Improving project organization and resource allocation\n",
    "Enhancing project control and predictability\n",
    "Facilitating better communication and collaboration among team members\n",
    "Ensuring the delivery of high-quality software\n",
    "Managing risks and issues effectively\n",
    "Enabling continuous improvement through feedback and lessons learned\n",
    "By following a SDLC model, organizations can ensure that their software development projects are well-planned, organized, and executed, leading to successful outcomes.\n",
    "\n",
    "Input: What is the role of testing in SDLC?\n",
    "Output: SDLC provides a structured approach to software development, ensuring that all aspects of the project are addressed. It helps in:\n",
    "\n",
    "Improving project organization and resource allocation\n",
    "Enhancing project control and predictability\n",
    "Facilitating better communication and collaboration among team members\n",
    "Ensuring the delivery of high-quality software\n",
    "Managing risks and issues effectively\n",
    "Enabling continuous improvement through feedback and lessons learned\n",
    "By following a SDLC model, organizations can ensure that their software development projects are well-planned, organized, and executed, leading to successful outcomes.\n",
    "\n",
    "Input: What is agile in SDLC?\n",
    "Output: Agile is an iterative and incremental approach to software development, which emphasizes flexibility, collaboration, and customer satisfaction. In the context of SDLC, Agile methodologies focus on delivering working software in short iterations, called sprints, with continuous feedback and adaptation. Key principles of Agile include:\n",
    "\n",
    "Individuals and interactions over processes and tools\n",
    "Working software over comprehensive documentation\n",
    "Customer collaboration over contract negotiation\n",
    "Responding to change over following a plan\n",
    "Popular Agile frameworks include Scrum, Kanban, and Extreme Programming (XP). Agile methodologies are particularly well-suited for projects with evolving requirements, high uncertainty, or a need for rapid delivery.\n",
    "\n",
    "Input: Who are you?\n",
    "Output: I am a helpful Smart SDLC AI assistant, designed to provide detailed and friendly responses to your questions and inquiries about the Software Development Life Cycle (SDLC). I can help you understand various aspects of SDLC, including models, tools, and best practices, to support your software development projects.\n",
    "\n",
    "Input: What is the difference between SDLC and STLC?\n",
    "Output: SDLC (Software Development Life Cycle) and STLC (Software Testing Life Cycle) are two distinct processes in software development.\n",
    "\n",
    "SDLC is a comprehensive process that covers all stages of software development, from requirements gathering and design to implementation, testing, deployment, and maintenance. It focuses on delivering a high-quality software product that meets customer expectations.\n",
    "\n",
    "STLC, on the other hand, is a subset of SDLC that specifically focuses on the testing phase of software development. It outlines the steps and activities involved in planning, designing, executing, and reporting.\n",
    "\n",
    "Input:  How can I choose the right SDLC model for my project?\n",
    "Output:\"\"\"\n"
   ]
  },
  {
   "cell_type": "markdown",
   "metadata": {},
   "source": [
    "## Execution\n",
    "Let us now use the defined Model object and pair it with input and\n",
    "generate the response:\n"
   ]
  },
  {
   "cell_type": "code",
   "execution_count": 11,
   "metadata": {},
   "outputs": [
    {
     "name": "stdout",
     "output_type": "stream",
     "text": [
      "Submitting generation request...\n",
      " Choosing the right SDLC model for your project depends on various factors, including project requirements, size, complexity, and constraints. Here are some steps to help you select the most suitable model:\n",
      "\n",
      "1. Understand your project's goals and requirements: Identify the project's objectives, scope, and constraints, such as time, budget, and resources.\n",
      "2. Evaluate the project's complexity and risk: Assess the project's complexity, uncertainty, and potential risks. More complex or risky projects may benefit from iterative or adaptive models like Agile or Scrum.\n",
      "3. Consider the team's expertise and preferences: Evaluate the team's experience, skills, and preferences. Some teams may be more comfortable with traditional models like Waterfall, while others may prefer Agile or other iterative approaches.\n",
      "4. Assess the need for flexibility and adaptability: If your project has evolving requirements or a high degree of uncertainty, consider models that\n"
     ]
    }
   ],
   "source": [
    "print(\"Submitting generation request...\")\n",
    "generated_response = model.generate_text(prompt=prompt_input, guardrails=True)\n",
    "print(generated_response)\n"
   ]
  },
  {
   "cell_type": "markdown",
   "metadata": {},
   "source": [
    "# Next steps\n",
    "You successfully completed this notebook! You learned how to use\n",
    "watsonx.ai inferencing SDK to generate response from the foundation model\n",
    "based on the provided input, model id and model parameters. Check out the\n",
    "official watsonx.ai site for more samples, tutorials, documentation, how-tos, and blog posts.\n",
    "\n",
    "<a id=\"copyrights\"></a>\n",
    "### Copyrights\n",
    "\n",
    "Licensed Materials - Copyright © 2023 IBM. This notebook and its source code are released under the terms of the ILAN License.\n",
    "Use, duplication disclosure restricted by GSA ADP Schedule Contract with IBM Corp.\n",
    "\n",
    "**Note:** The auto-generated notebooks are subject to the International License Agreement for Non-Warranted Programs (or equivalent) and License Information document for watsonx.ai Auto-generated Notebook (License Terms), such agreements located in the link below. Specifically, the Source Components and Sample Materials clause included in the License Information document for watsonx.ai Studio Auto-generated Notebook applies to the auto-generated notebooks.  \n",
    "\n",
    "By downloading, copying, accessing, or otherwise using the materials, you agree to the <a href=\"https://www14.software.ibm.com/cgi-bin/weblap/lap.pl?li_formnum=L-AMCU-BYC7LF\" target=\"_blank\">License Terms</a>  "
   ]
  }
 ],
 "metadata": {
  "kernelspec": {
   "display_name": ".venv (3.10.0)",
   "language": "python",
   "name": "python3"
  },
  "language_info": {
   "codemirror_mode": {
    "name": "ipython",
    "version": 3
   },
   "file_extension": ".py",
   "mimetype": "text/x-python",
   "name": "python",
   "nbconvert_exporter": "python",
   "pygments_lexer": "ipython3",
   "version": "3.10.0"
  }
 },
 "nbformat": 4,
 "nbformat_minor": 0
}
